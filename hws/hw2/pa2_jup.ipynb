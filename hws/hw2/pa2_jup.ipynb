{
 "cells": [
  {
   "cell_type": "code",
   "execution_count": 1,
   "id": "4bd989c2",
   "metadata": {},
   "outputs": [],
   "source": [
    "import pandas as pd\n",
    "import numpy as np\n",
    "import collections\n"
   ]
  },
  {
   "cell_type": "code",
   "execution_count": 2,
   "id": "e178a73c",
   "metadata": {},
   "outputs": [],
   "source": [
    "def load(path):\n",
    "\tdf = None\n",
    "\tdf = pd.read_csv(path)\n",
    "\treturn df"
   ]
  },
  {
   "cell_type": "code",
   "execution_count": 3,
   "id": "397053d5",
   "metadata": {},
   "outputs": [],
   "source": [
    "def prior(df):\n",
    "    ham_prior = 0\n",
    "    spam_prior =  0\n",
    "\n",
    "    ham_prior = df['label'].value_counts()[1]/df.shape[0]\n",
    "    spam_prior = df['label'].value_counts()[0]/df.shape[0]  \n",
    "    \n",
    "    print(df['label'].value_counts())\n",
    "    \n",
    "    return ham_prior, spam_prior"
   ]
  },
  {
   "cell_type": "code",
   "execution_count": 4,
   "id": "f0381c4f",
   "metadata": {},
   "outputs": [],
   "source": [
    "def likelihood(df):\n",
    "    ham_like_dict = {}\n",
    "    spam_like_dict = {}\n",
    "    '''YOUR CODE HERE'''\n",
    "    spam_counter = collections.Counter()\n",
    "    ham_counter = collections.Counter()\n",
    "    #create list of all spam text\n",
    "    seriesOfAllSpam = df.loc[df['label'] == 'spam']\n",
    "    listOfAllSpamText = seriesOfAllSpam['text'].tolist()\n",
    "    \n",
    "    #create list of all ham text\n",
    "    seriesOfAllHam = df.loc[df['label'] == 'ham']\n",
    "    listOfAllHamText = seriesOfAllHam['text'].tolist()\n",
    "    \n",
    "    for i in range(len(listOfAllSpamText)):\n",
    "        wordList = listOfAllSpamText[i].split(\" \")\n",
    "        unique = set(wordList)\n",
    "        counterTemp = collections.Counter(list(unique))\n",
    "        spam_counter.update(counterTemp)\n",
    "        \n",
    "    for i in range(len(listOfAllSpamText)):\n",
    "        wordList = listOfAllHamText[i].split(\" \")\n",
    "        unique = set(wordList)\n",
    "        counterTemp = collections.Counter(list(unique))\n",
    "        ham_counter.update(counterTemp)\n",
    "    \n",
    "    ham_like_dict = {k:v/1199 for (k,v) in ham_counter.items()}\n",
    "    spam_like_dict = {k:v/1199 for (k,v) in spam_counter.items()}\n",
    "\n",
    "    return ham_like_dict, spam_like_dict\n"
   ]
  },
  {
   "cell_type": "code",
   "execution_count": 5,
   "id": "f713ef47",
   "metadata": {},
   "outputs": [],
   "source": [
    "def predict(ham_prior, spam_prior, ham_like_dict, spam_like_dict, text):\n",
    "    '''\n",
    "    prediction function that uses prior and likelihood structure to compute proportional posterior for a single line of text\n",
    "    '''\n",
    "    #ham_spam_decision = 1 if classified as spam, 0 if classified as normal/ham\n",
    "    ham_spam_decision = None\n",
    "\n",
    "\n",
    "\n",
    "\n",
    "    '''YOUR CODE HERE'''\n",
    "    alpha = 2\n",
    "    #values become too small over time\n",
    "    #ham_posterior = posterior probability that the email is normal/ham\n",
    "    ham_posterior = None\n",
    "    ham_posterior = 1\n",
    "    for i in text.split():\n",
    "        if i in ham_like_dict:\n",
    "            ham_posterior *= (ham_like_dict[i] + alpha)\n",
    "    ham_posterior *= ham_prior\n",
    "    \n",
    "    \n",
    "\n",
    "    #spam_posterior = posterior probability that the email is spam\n",
    "    spam_posterior = None\n",
    "    spam_posterior = 1\n",
    "    for i in text.split():\n",
    "        if i in spam_like_dict:\n",
    "            spam_posterior *= (spam_like_dict[i] + alpha)\n",
    "    spam_posterior *= spam_prior\n",
    "    \n",
    "    \n",
    "    spam_post = ((spam_posterior)/(ham_posterior + spam_posterior))\n",
    "    ham_post = ((ham_posterior)/(ham_posterior + spam_posterior))\n",
    "    if ((spam_post > ham_post)):\n",
    "        ham_spam_decision = 1\n",
    "    else:\n",
    "        ham_spam_decision = 0\n",
    "    \n",
    "    '''END'''\n",
    "    return ham_spam_decision\n",
    "\n",
    "\n"
   ]
  },
  {
   "cell_type": "code",
   "execution_count": 6,
   "id": "906e1e75",
   "metadata": {},
   "outputs": [
    {
     "name": "stdout",
     "output_type": "stream",
     "text": [
      "ham     1199\n",
      "spam    1199\n",
      "Name: label, dtype: int64\n",
      "(0.9633333333333334, 0.9826388888888888, 0.9433333333333334)\n"
     ]
    },
    {
     "name": "stderr",
     "output_type": "stream",
     "text": [
      "C:\\Users\\Jonat\\AppData\\Local\\Temp/ipykernel_12896/3223532537.py:33: RuntimeWarning: invalid value encountered in double_scalars\n",
      "  spam_post = ((spam_posterior)/(ham_posterior + spam_posterior))\n",
      "C:\\Users\\Jonat\\AppData\\Local\\Temp/ipykernel_12896/3223532537.py:34: RuntimeWarning: invalid value encountered in double_scalars\n",
      "  ham_post = ((ham_posterior)/(ham_posterior + spam_posterior))\n"
     ]
    }
   ],
   "source": [
    "def metrics(ham_prior, spam_prior, ham_dict, spam_dict, df):\n",
    "\n",
    "    hh = 0 #true negatives, truth = ham, predicted = ham\n",
    "    hs = 0 #false positives, truth = ham, pred = spam\n",
    "    sh = 0 #false negatives, truth = spam, pred = ham\n",
    "    ss = 0 #true positives, truth = spam, pred = spam\n",
    "    num_rows = df.shape[0]\n",
    "    for i in range(num_rows):\n",
    "        roi = df.iloc[i,:]\n",
    "        roi_text = roi.text\n",
    "        roi_label = roi.label_num\n",
    "        guess = predict(ham_prior, spam_prior, ham_dict, spam_dict, roi_text)\n",
    "        if roi_label == 0 and guess == 0:\n",
    "            hh += 1\n",
    "        elif roi_label == 0 and guess == 1:\n",
    "            hs += 1\n",
    "        elif roi_label == 1 and guess == 0:\n",
    "            sh += 1\n",
    "        elif roi_label == 1 and guess == 1:\n",
    "            ss += 1\n",
    "    \n",
    "    acc = (ss + hh)/(ss+hh+sh+hs)\n",
    "    precision = (ss)/(ss + hs)\n",
    "    recall = (ss)/(ss + sh)\n",
    "    return acc, precision, recall\n",
    "    \n",
    "if __name__ == \"__main__\":\n",
    "    ham_prior, spam_prior = prior(load(\"./TRAIN_balanced_ham_spam.csv\"))\n",
    "    ham_dict, spam_dict = likelihood(load(\"./TRAIN_balanced_ham_spam.csv\"))\n",
    "    \n",
    "    df = load(\"./TEST_balanced_ham_spam.csv\")\n",
    "    print(metrics(ham_prior, spam_prior, ham_dict, spam_dict, df))\n",
    "    "
   ]
  },
  {
   "cell_type": "code",
   "execution_count": null,
   "id": "bc1ab228",
   "metadata": {},
   "outputs": [],
   "source": []
  }
 ],
 "metadata": {
  "kernelspec": {
   "display_name": "Python 3 (ipykernel)",
   "language": "python",
   "name": "python3"
  },
  "language_info": {
   "codemirror_mode": {
    "name": "ipython",
    "version": 3
   },
   "file_extension": ".py",
   "mimetype": "text/x-python",
   "name": "python",
   "nbconvert_exporter": "python",
   "pygments_lexer": "ipython3",
   "version": "3.9.7"
  }
 },
 "nbformat": 4,
 "nbformat_minor": 5
}
