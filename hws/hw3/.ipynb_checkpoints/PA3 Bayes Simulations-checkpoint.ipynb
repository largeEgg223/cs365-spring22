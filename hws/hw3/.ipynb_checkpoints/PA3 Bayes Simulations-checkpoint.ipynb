{
 "cells": [
  {
   "cell_type": "markdown",
   "metadata": {},
   "source": [
    "# PA3 Bayes Simulation\n",
    "\n",
    "Through this coding exercise you will hopefully gain some appreciation for what Bayes theorem models in real world examples. \n",
    "To this end, we will be using python to simulate real life scenarios and compare the probabilities from the simulations\n",
    "to those from analytical Bayes Theorem\n",
    "\n",
    "#### What to turn in:\n",
    "1. Your copy of this .ipynb file that includes your answers and simulation code\n",
    "\n",
    "#### Where to turn in:\n",
    "1. Grade scope portal\n",
    "\n",
    "#### When to turn in:\n",
    "1. 5 PM EST 2/18"
   ]
  },
  {
   "cell_type": "code",
   "execution_count": 1,
   "metadata": {},
   "outputs": [],
   "source": [
    "# free free to import other packages \n",
    "import pandas as pd\n",
    "import numpy as np\n",
    "import collections"
   ]
  },
  {
   "cell_type": "markdown",
   "metadata": {},
   "source": [
    "## P1: Disease and testing\n",
    "\n",
    "Let us say that a common bacteria infects about 5% of the population in a small city in the United States. A new test has been created to detect the infection. If the patient is infected, the test will give a positive result 90% of the time. On the other hand, the test will give a positive result 6% of the time if the person is not infected. What is the probability that the person is infected given a positive test?\n",
    "\n",
    "1. Compute your answer analytically.\n",
    "\n",
    "2. Compute your answer using simulation. You may assume there exist 10000 people. "
   ]
  },
  {
   "cell_type": "markdown",
   "metadata": {},
   "source": [
    "### Analytical Answer Cell (double click to edit)\n",
    "Let us first name the events P=positive I=infected. We know Pr(I) = .05 Pr(notI)=.95, Pr(P|I)=.90, Pr(P|notI) = .06. Using Bayes theorem we solve for Pr(I|P) = (Pr(P|I)* Pr(I))/Pr(P). We have all values except Pr(P) to solve for this, we do sum of Pr(P|I)* Pr(I) and Pr(P|NI)* Pr(NI) = .102. Thus Pr(I|P) = (.9 * .05)/.102 = .441"
   ]
  },
  {
   "cell_type": "code",
   "execution_count": 9,
   "metadata": {},
   "outputs": [
    {
     "name": "stdout",
     "output_type": "stream",
     "text": [
      "0.4573643410852713\n"
     ]
    },
    {
     "data": {
      "text/plain": [
       "0.4573643410852713"
      ]
     },
     "execution_count": 9,
     "metadata": {},
     "output_type": "execute_result"
    }
   ],
   "source": [
    "#Coding answer\n",
    "def simulation(n_times = 10000):\n",
    "    p_infected = 0.05\n",
    "    p_positiveInfected = 0.9\n",
    "    p_positiveNotInfected = 0.06\n",
    "    \n",
    "    #create array where each element is either infected(1) or non-infected(0)\n",
    "    population = []\n",
    "    for i in range(n_times):\n",
    "        infected = np.random.uniform(0, 1)\n",
    "        if (infected > .05):\n",
    "            population.append(0)\n",
    "        else:\n",
    "            population.append(1)\n",
    "    \n",
    "    \n",
    "    #testing where elements test positive according to whether or not they're infected\n",
    "    testing = []\n",
    "    for i in range(n_times):\n",
    "        test_result = np.random.uniform(0,1)\n",
    "        #if not infected, test with .06 chance of being positive\n",
    "        if (population[i] == 0):\n",
    "            if (test_result > 0.06):\n",
    "                testing.append(0)\n",
    "            else:\n",
    "                testing.append(1)\n",
    "        #if infected, test with .9 chance of being positive\n",
    "        if (population[i] == 1):\n",
    "            if (test_result > 0.9):\n",
    "                testing.append(0)\n",
    "            else:\n",
    "                testing.append(1)\n",
    "                \n",
    "    #find probability someone is infected given a positive test\n",
    "    pop_count = 0\n",
    "    infected_count = 0\n",
    "    for i in range(n_times):\n",
    "        if (testing[i] == 1):\n",
    "            pop_count+=1\n",
    "            if(population[i] == 1):\n",
    "                infected_count+=1\n",
    "    \n",
    "    print(infected_count/pop_count)    \n",
    "    return (infected_count/pop_count)\n",
    "\n",
    "simulation()\n"
   ]
  },
  {
   "cell_type": "markdown",
   "metadata": {},
   "source": [
    "## P2: Trees\n",
    "\n",
    "A local forest contains a series of tree species: elm, maples, and other. Unfortunately, 30% of all trees exhibit some form of decay. Of the ones that do exhibit decay, 15% are elms, 80% are maples, and the rest are other. Of the trees that do *not* exhibit decay, 20% are elm, 10% are maple, and 70% are other. If we were to  select a tree uniformly at random:\n",
    "\n",
    "1. What is the probability the tree I selected is maple?  \n",
    "2. What is the probability that the tree I selected shows decay, given it is a maple tree? \n",
    "\n",
    "Answer 1.,2. both analytically, as well as by writing Python code. You may assume in your simulation, that the number of trees is 10000.\n"
   ]
  },
  {
   "cell_type": "markdown",
   "metadata": {},
   "source": [
    "### Analytic Answer (Double click to edit)\n",
    "\n",
    "1. The probability any selected tree is a maple, let's first name our events as M = maple and D = decay. We know Pr(D) = .3 and thus Pr(notD) = .7. We also know Pr(M given D) = .8 and Pr(M given not D) = .1 . All trees are either D or not D. Thus we can sum Pr(D)* Pr(M given D) and Pr(notD)* Pr(M given notD) = .3*.8 + .7*.1 = .31 = Pr(M)\n",
    "\n",
    "2.The probability any given tree shows decay given it is a maple is Pr(D|M), which according to Bayes rule is (Pr(M|D) * Pr(D))/Pr(M). We know these values already. Thus we plug them in, to get Pr(D|M) = (.8 * .3)/.31 = .774"
   ]
  },
  {
   "cell_type": "code",
   "execution_count": 3,
   "metadata": {},
   "outputs": [
    {
     "name": "stdout",
     "output_type": "stream",
     "text": [
      "This is the probability any selected tree is maple:  0.3114\n",
      "This is the probability any selected tree is decayed given it's maple:  0.7825947334617854\n"
     ]
    }
   ],
   "source": [
    "#coding answer\n",
    "#Coding answer\n",
    "def simulation1(n_times = 10000):\n",
    "    p_decay = 0.3\n",
    "    p_elmGivenDecay = .15\n",
    "    p_mapleGivenDecay = .80\n",
    "    \n",
    "    #create array where each element is either decayed(1) or non-decayed(0)\n",
    "    population = []\n",
    "    for i in range(n_times):\n",
    "        decayed = np.random.uniform(0, 1)\n",
    "        if (decayed > .3):\n",
    "            population.append(0)\n",
    "        else:\n",
    "            population.append(1)\n",
    "    \n",
    "    species = []      \n",
    "    \n",
    "    #go through decayed and assign 15% as elm(1), 80% as maple(2), 5% as other(3)\n",
    "    #go through non-decayed assigne 20% as elm(1), 10% as maple(2), 70% as other(3)\n",
    "    for i in range(n_times):\n",
    "        speciesChance = np.random.uniform(0,1)\n",
    "        if(population[i] == 1):\n",
    "            if (speciesChance < .15):\n",
    "                species.append(1)\n",
    "            elif (speciesChance < .95):\n",
    "                species.append(2)\n",
    "            else:\n",
    "                species.append(3)\n",
    "        if(population[i] == 0):\n",
    "            if (speciesChance < .20):\n",
    "                species.append(1)\n",
    "            elif (speciesChance < .30):\n",
    "                species.append(2)\n",
    "            else:\n",
    "                species.append(3)\n",
    "                \n",
    "    #find probability that any given tree is a maple\n",
    "    maple_count = 0\n",
    "    for i in range(n_times):\n",
    "        if (species[i] == 2):\n",
    "            maple_count += 1\n",
    "    print(\"This is the probability any selected tree is maple: \", maple_count/n_times)\n",
    "    \n",
    "    #find probability any selected tree is decayed, given it's maple\n",
    "    decayed_count = 0\n",
    "    maple_count1 = 0\n",
    "    for i in range(n_times):\n",
    "        if (species[i] == 2):\n",
    "            maple_count1 += 1\n",
    "            if(population[i] == 1):\n",
    "                decayed_count += 1\n",
    "    print(\"This is the probability any selected tree is decayed given it's maple: \", decayed_count/maple_count1)    \n",
    " \n",
    "    \n",
    "simulation1()"
   ]
  },
  {
   "cell_type": "markdown",
   "metadata": {},
   "source": [
    "## Ham/Spam Email Algorithm Analysis\n",
    "\n",
    "Let’s say we created a new machine learning algorithm for the detection of spam email. It correctly identifies 80% of spam emails as spam. However, it falsely identifies 40% of ham emails as spam. There are three testing data sets to assess our algorithm on. The first test set has 25% of the emails as spam, the second test set has 50% of the emails as spam, and the third data set has 75% of the emails as spam. For each data set, compute the following probabilities both analytically and by simulation. Assume that the number of emails for each of the three tests sets is 10,000.\n",
    "\n",
    "* What is the probability that the email is spam given that my algorithm classifies it as spam? \n",
    "\n",
    "Note: There is no need to replicate your code. Write your code in the form of appropriately defined functions.\n"
   ]
  },
  {
   "cell_type": "markdown",
   "metadata": {},
   "source": [
    "### Analytic Answer (Double click to edit)\n",
    "Let S = email is spam and CS = classified as spam by algorithm. We are given that P(CS|S) = .8 and Pr(CS|notS) = .4. Depending on the testing data set, Pr(S) is either .25, .5, .75. \n",
    "\n",
    "We want to find Pr(S|CS). According to Bayes Rule, we know Pr(S|CS) = ((Pr(CS|S)* Pr(S))/Pr(CS)\n",
    "If Pr(S) = .25, we ((Pr(CS|S)* Pr(S))/Pr(CS) = ((.8* .25)/Pr(CS)) We get Pr(CS) by summing Pr(CS|S)* Pr(S) and Pr(CS|notS)* Pr(notS) = .8 * .25 + .4 * .75 = .5. Thus Pr(S|CS) = ((Pr(CS|S)* Pr(S))/Pr(CS) = ((.8* .25)/.5) = .4\n",
    "\n",
    "If Pr(S) = .5, we do similar calculations using Bayes and finding Pr(CS), to get Pr(S|CS) = .667\n",
    "\n",
    "If Pr(S) = .75, we do similar calculations using Bayes and finding Pr(CS), to get Pr(S|CS) = .857"
   ]
  },
  {
   "cell_type": "code",
   "execution_count": 4,
   "metadata": {},
   "outputs": [
    {
     "name": "stdout",
     "output_type": "stream",
     "text": [
      "This is the probability an email is spam, given the algorithm classified it as spam, when  25.0 % of emails are spam:  0.39086395233366433\n",
      "This is the probability an email is spam, given the algorithm classified it as spam, when  50.0 % of emails are spam:  0.6625432953983177\n",
      "This is the probability an email is spam, given the algorithm classified it as spam, when  75.0 % of emails are spam:  0.8617932609937179\n"
     ]
    }
   ],
   "source": [
    "#Coding Answer\n",
    "def simulation2(n_times = 10000, prSpam = .25):\n",
    "    \n",
    "    #create array where each element is either spam(1) or ham(0)\n",
    "    emails = []\n",
    "    for i in range(n_times):\n",
    "        spam_chance = np.random.uniform(0, 1)\n",
    "        if (spam_chance > prSpam):\n",
    "            emails.append(0)\n",
    "        else:\n",
    "            emails.append(1)\n",
    "    \n",
    "    \n",
    "    #simulate the algorithm classifying emails as either spam(1) or ham(0)\n",
    "    classified = []\n",
    "    for i in range(n_times):\n",
    "        correctness = np.random.uniform(0,1)\n",
    "        #if spam, 80% chance of identifying as spam\n",
    "        if(emails[i] == 1):\n",
    "            if (correctness < .80):\n",
    "                classified.append(1)\n",
    "            else:\n",
    "                classified.append(0)\n",
    "        #if ham, 40% chance of identifying as spam\n",
    "        if(emails[i] == 0):\n",
    "            if (correctness < .40):\n",
    "                classified.append(1)\n",
    "            else:\n",
    "                classified.append(0)\n",
    "                \n",
    "    #simulate probability email is spam, given the algorithm classifies it as spam\n",
    "    classified_spam = 0\n",
    "    is_spam = 0\n",
    "    for i in range(n_times):\n",
    "        if(classified[i] == 1):\n",
    "            classified_spam += 1\n",
    "            if(emails[i] == 1):\n",
    "                is_spam += 1\n",
    "    print(\"This is the probability an email is spam, given the algorithm classified it as spam, when \", prSpam*100, \"% of emails are spam: \", is_spam/classified_spam)\n",
    "\n",
    "simulation2(10000,.25)\n",
    "simulation2(10000,.50)\n",
    "simulation2(10000,.75)"
   ]
  }
 ],
 "metadata": {
  "kernelspec": {
   "display_name": "Python 3 (ipykernel)",
   "language": "python",
   "name": "python3"
  },
  "language_info": {
   "codemirror_mode": {
    "name": "ipython",
    "version": 3
   },
   "file_extension": ".py",
   "mimetype": "text/x-python",
   "name": "python",
   "nbconvert_exporter": "python",
   "pygments_lexer": "ipython3",
   "version": "3.9.7"
  }
 },
 "nbformat": 4,
 "nbformat_minor": 4
}
